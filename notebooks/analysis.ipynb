{
 "cells": [
  {
   "cell_type": "markdown",
   "id": "64b59a3f-2ec6-4fca-b391-b416e2d6a0fb",
   "metadata": {},
   "source": [
    "# Basic"
   ]
  },
  {
   "cell_type": "code",
   "execution_count": 59,
   "id": "4781ae2e-abb9-45a0-8011-197ad90c831e",
   "metadata": {},
   "outputs": [],
   "source": [
    "import os\n",
    "from datetime import datetime, timedelta, timezone\n",
    "\n",
    "import requests\n",
    "import pandas as pd\n",
    "import pandas_gbq\n",
    "from dateutil.relativedelta import relativedelta\n",
    "from google.cloud import bigquery\n",
    "from dotenv import load_dotenv\n",
    "\n",
    "load_dotenv()\n",
    "pd.set_option(\"display.max_columns\", None)\n",
    "pd.set_option(\"display.max_rows\", None)\n",
    "pd.set_option(\"expand_frame_repr\", False)"
   ]
  },
  {
   "cell_type": "code",
   "execution_count": 48,
   "id": "ff66dbad-3b52-4ec1-b85b-b8538f968013",
   "metadata": {},
   "outputs": [],
   "source": [
    "API_KEY = os.environ[\"API_KEY\"]\n",
    "API_URL = os.environ[\"API_URL\"]\n",
    "ACCOUNT_ID = os.environ[\"ACCOUNT_ID\"]\n",
    "INSTRUMENT = \"USD_JPY\"\n",
    "GRANULARITY = \"D\"\n",
    "PRICE = \"M\"  # “M” (midpoint candles) “B” (bid candles) and “A” (ask candles)\n",
    "ALIGNMENT_TIMEZONE = \"America/New_York\"\n",
    "TABLE = \"oanda.usdjpy_ny_day_mid_candles\""
   ]
  },
  {
   "cell_type": "markdown",
   "id": "1bbb6614-13a1-481b-9cfe-8ca11cc26555",
   "metadata": {},
   "source": [
    "# Get candles"
   ]
  },
  {
   "cell_type": "code",
   "execution_count": 73,
   "id": "0d20661d-be2e-4baf-b5cc-b64671b0fbe0",
   "metadata": {},
   "outputs": [],
   "source": [
    "def make_headers():\n",
    "    return {\n",
    "        \"Authorization\": f\"Bearer {API_KEY}\",\n",
    "        \"Content-Type\": \"application/json\"\n",
    "    }\n",
    "\n",
    "def get_candles(from_str, to_str):\n",
    "    headers = make_headers()\n",
    "    payload = {\n",
    "        \"price\": PRICE,\n",
    "        \"granularity\": GRANULARITY,\n",
    "        \"from\": from_str,\n",
    "        \"to\": to_str,\n",
    "        \"alignmentTimezone\": ALIGNMENT_TIMEZONE\n",
    "    }\n",
    "    r = requests.get(\n",
    "        url=f\"{API_URL}/v3/instruments/{INSTRUMENT}/candles\",\n",
    "        headers=headers,\n",
    "        params=payload\n",
    "    )\n",
    "    \n",
    "    # print(\"get_candles()\")\n",
    "    # print(f\"Status code: {r.status_code}\")\n",
    "    # print(r.text)\n",
    "    # pprint.pprint(r.json()[\"candles\"])\n",
    "\n",
    "    candles = r.json()[\"candles\"]\n",
    "    return candles\n",
    "\n",
    "\n",
    "def candles_to_df(candles):\n",
    "    data = []\n",
    "    for candle in candles:\n",
    "        d = dict()\n",
    "        d[\"date\"] = candle[\"time\"][:10]\n",
    "        d[\"open\"] = candle[\"mid\"][\"o\"]\n",
    "        d[\"high\"] = candle[\"mid\"][\"h\"]\n",
    "        d[\"low\"] = candle[\"mid\"][\"l\"]\n",
    "        d[\"close\"] = candle[\"mid\"][\"c\"]\n",
    "        d[\"volume\"] = candle[\"volume\"]\n",
    "        data.append(d)\n",
    "\n",
    "    df = pd.DataFrame(data)\n",
    "\n",
    "    for c in [\"open\", \"high\", \"low\", \"close\", \"volume\"]:\n",
    "        df[c] = pd.to_numeric(df[c])\n",
    "    df[\"write_timestamp\"] = datetime.now(timezone.utc)\n",
    "    \n",
    "    return df"
   ]
  },
  {
   "cell_type": "code",
   "execution_count": 29,
   "id": "bf17f883-a95d-4021-87f7-0c0cf79b66ba",
   "metadata": {},
   "outputs": [
    {
     "name": "stdout",
     "output_type": "stream",
     "text": [
      "<class 'list'>\n",
      "1\n",
      "{'complete': True, 'volume': 143363, 'time': '2024-01-01T22:00:00.000000000Z', 'mid': {'o': '140.858', 'h': '142.216', 'l': '140.811', 'c': '142.006'}}\n"
     ]
    }
   ],
   "source": [
    "res = get_candles(from_str=\"2024-01-01\", to_str=\"2024-01-02\")\n",
    "print(type(res))\n",
    "print(len(res))\n",
    "for r in res:\n",
    "    print(r)"
   ]
  },
  {
   "cell_type": "code",
   "execution_count": 58,
   "id": "d25863f4-7b96-4039-932a-145bd22f7006",
   "metadata": {},
   "outputs": [
    {
     "name": "stdout",
     "output_type": "stream",
     "text": [
      "<class 'list'>\n",
      "204\n",
      "{'complete': True, 'volume': 1, 'time': '2002-05-06T21:00:00.000000000Z', 'mid': {'o': '127.920', 'h': '127.920', 'l': '127.920', 'c': '127.920'}}\n",
      "{'complete': True, 'volume': 1, 'time': '2002-05-07T21:00:00.000000000Z', 'mid': {'o': '128.920', 'h': '128.920', 'l': '128.920', 'c': '128.920'}}\n",
      "{'complete': True, 'volume': 1, 'time': '2002-05-08T21:00:00.000000000Z', 'mid': {'o': '128.380', 'h': '128.380', 'l': '128.380', 'c': '128.380'}}\n",
      "{'complete': True, 'volume': 1, 'time': '2002-05-09T21:00:00.000000000Z', 'mid': {'o': '127.630', 'h': '127.630', 'l': '127.630', 'c': '127.630'}}\n",
      "{'complete': True, 'volume': 1, 'time': '2002-05-10T21:00:00.000000000Z', 'mid': {'o': '127.620', 'h': '127.620', 'l': '127.620', 'c': '127.620'}}\n",
      "{'complete': True, 'volume': 1, 'time': '2002-12-24T22:00:00.000000000Z', 'mid': {'o': '120.320', 'h': '120.320', 'l': '120.320', 'c': '120.320'}}\n",
      "{'complete': True, 'volume': 1, 'time': '2002-12-25T22:00:00.000000000Z', 'mid': {'o': '119.970', 'h': '119.970', 'l': '119.970', 'c': '119.970'}}\n",
      "{'complete': True, 'volume': 1, 'time': '2002-12-26T22:00:00.000000000Z', 'mid': {'o': '119.890', 'h': '119.890', 'l': '119.890', 'c': '119.890'}}\n",
      "{'complete': True, 'volume': 1, 'time': '2002-12-28T22:00:00.000000000Z', 'mid': {'o': '119.870', 'h': '119.870', 'l': '119.870', 'c': '119.870'}}\n",
      "{'complete': True, 'volume': 1, 'time': '2002-12-29T22:00:00.000000000Z', 'mid': {'o': '119.880', 'h': '119.880', 'l': '119.880', 'c': '119.880'}}\n"
     ]
    }
   ],
   "source": [
    "res = get_candles(from_str=\"2002-01-01\", to_str=\"2002-12-31\")\n",
    "print(type(res))\n",
    "print(len(res))\n",
    "for r in res[:5]:\n",
    "    print(r)\n",
    "for r in res[-5:]:\n",
    "    print(r)"
   ]
  },
  {
   "cell_type": "markdown",
   "id": "5b01ed5c-9c08-4843-bb74-ff73244fe3e3",
   "metadata": {},
   "source": [
    "# Upload candles to BigQuery"
   ]
  },
  {
   "cell_type": "code",
   "execution_count": 60,
   "id": "8df625f4-0886-473e-a496-7ec67c969b68",
   "metadata": {},
   "outputs": [],
   "source": [
    "# d = datetime(2020, 1, 1)\n",
    "\n",
    "# while d >= datetime(2002, 1, 1):\n",
    "#     from_str = d.strftime(\"%Y-%m-%d\")\n",
    "#     to_str = (d + relativedelta(years=1) - timedelta(days=1)).strftime(\"%Y-%m-%d\")\n",
    "#     print(f\"from: {from_str}, to: {to_str}\")\n",
    "\n",
    "#     res = get_candles(from_str=from_str, to_str=to_str)\n",
    "#     df = candles_to_df(res)\n",
    "#     print(\"Uploading...\")\n",
    "#     pandas_gbq.to_gbq(df, destination_table=TABLE, if_exists=\"append\")\n",
    "#     print(\"Finished\")\n",
    "    \n",
    "#     d -= relativedelta(years=1)"
   ]
  },
  {
   "cell_type": "markdown",
   "id": "3fe18e5e-1745-4df3-85bf-560d218a3ede",
   "metadata": {},
   "source": [
    "# Check candles in BigQuery"
   ]
  },
  {
   "cell_type": "code",
   "execution_count": 62,
   "id": "da889952-cb72-42f8-84ca-2e49409f2bf4",
   "metadata": {},
   "outputs": [
    {
     "name": "stderr",
     "output_type": "stream",
     "text": [
      "C:\\Users\\yk279\\PycharmProjects\\oanda\\.venv\\Lib\\site-packages\\google\\cloud\\bigquery\\table.py:1727: UserWarning: BigQuery Storage module not found, fetch data with the REST endpoint instead.\n",
      "  warnings.warn(\n"
     ]
    }
   ],
   "source": [
    "query = \"\"\"\n",
    "SELECT *\n",
    "FROM `oanda.usdjpy_ny_day_mid_candles`\n",
    "ORDER BY date\n",
    "\"\"\"\n",
    "\n",
    "df = bigquery.Client().query(query).to_dataframe()"
   ]
  },
  {
   "cell_type": "code",
   "execution_count": 63,
   "id": "913271cb-6c80-418a-95ab-307efa8c1e17",
   "metadata": {},
   "outputs": [
    {
     "data": {
      "text/plain": [
       "(6707, 7)"
      ]
     },
     "execution_count": 63,
     "metadata": {},
     "output_type": "execute_result"
    }
   ],
   "source": [
    "df.shape"
   ]
  },
  {
   "cell_type": "code",
   "execution_count": 64,
   "id": "ad80d2c2-7530-45d6-b0ee-aa0314c35cd7",
   "metadata": {},
   "outputs": [
    {
     "data": {
      "text/html": [
       "<div>\n",
       "<style scoped>\n",
       "    .dataframe tbody tr th:only-of-type {\n",
       "        vertical-align: middle;\n",
       "    }\n",
       "\n",
       "    .dataframe tbody tr th {\n",
       "        vertical-align: top;\n",
       "    }\n",
       "\n",
       "    .dataframe thead th {\n",
       "        text-align: right;\n",
       "    }\n",
       "</style>\n",
       "<table border=\"1\" class=\"dataframe\">\n",
       "  <thead>\n",
       "    <tr style=\"text-align: right;\">\n",
       "      <th></th>\n",
       "      <th>date</th>\n",
       "      <th>open</th>\n",
       "      <th>high</th>\n",
       "      <th>low</th>\n",
       "      <th>close</th>\n",
       "      <th>volume</th>\n",
       "      <th>write_timestamp</th>\n",
       "    </tr>\n",
       "  </thead>\n",
       "  <tbody>\n",
       "    <tr>\n",
       "      <th>0</th>\n",
       "      <td>2002-05-06</td>\n",
       "      <td>127.92</td>\n",
       "      <td>127.92</td>\n",
       "      <td>127.92</td>\n",
       "      <td>127.92</td>\n",
       "      <td>1</td>\n",
       "      <td>2025-07-05 23:41:41.882727+00:00</td>\n",
       "    </tr>\n",
       "    <tr>\n",
       "      <th>1</th>\n",
       "      <td>2002-05-07</td>\n",
       "      <td>128.92</td>\n",
       "      <td>128.92</td>\n",
       "      <td>128.92</td>\n",
       "      <td>128.92</td>\n",
       "      <td>1</td>\n",
       "      <td>2025-07-05 23:41:41.882727+00:00</td>\n",
       "    </tr>\n",
       "    <tr>\n",
       "      <th>2</th>\n",
       "      <td>2002-05-08</td>\n",
       "      <td>128.38</td>\n",
       "      <td>128.38</td>\n",
       "      <td>128.38</td>\n",
       "      <td>128.38</td>\n",
       "      <td>1</td>\n",
       "      <td>2025-07-05 23:41:41.882727+00:00</td>\n",
       "    </tr>\n",
       "    <tr>\n",
       "      <th>3</th>\n",
       "      <td>2002-05-09</td>\n",
       "      <td>127.63</td>\n",
       "      <td>127.63</td>\n",
       "      <td>127.63</td>\n",
       "      <td>127.63</td>\n",
       "      <td>1</td>\n",
       "      <td>2025-07-05 23:41:41.882727+00:00</td>\n",
       "    </tr>\n",
       "    <tr>\n",
       "      <th>4</th>\n",
       "      <td>2002-05-10</td>\n",
       "      <td>127.62</td>\n",
       "      <td>127.62</td>\n",
       "      <td>127.62</td>\n",
       "      <td>127.62</td>\n",
       "      <td>1</td>\n",
       "      <td>2025-07-05 23:41:41.882727+00:00</td>\n",
       "    </tr>\n",
       "  </tbody>\n",
       "</table>\n",
       "</div>"
      ],
      "text/plain": [
       "         date    open    high     low   close  volume                  write_timestamp\n",
       "0  2002-05-06  127.92  127.92  127.92  127.92       1 2025-07-05 23:41:41.882727+00:00\n",
       "1  2002-05-07  128.92  128.92  128.92  128.92       1 2025-07-05 23:41:41.882727+00:00\n",
       "2  2002-05-08  128.38  128.38  128.38  128.38       1 2025-07-05 23:41:41.882727+00:00\n",
       "3  2002-05-09  127.63  127.63  127.63  127.63       1 2025-07-05 23:41:41.882727+00:00\n",
       "4  2002-05-10  127.62  127.62  127.62  127.62       1 2025-07-05 23:41:41.882727+00:00"
      ]
     },
     "execution_count": 64,
     "metadata": {},
     "output_type": "execute_result"
    }
   ],
   "source": [
    "df.head()"
   ]
  },
  {
   "cell_type": "code",
   "execution_count": 65,
   "id": "3a8e4a20-3a15-4b59-b332-b1aca988ede1",
   "metadata": {},
   "outputs": [
    {
     "data": {
      "text/html": [
       "<div>\n",
       "<style scoped>\n",
       "    .dataframe tbody tr th:only-of-type {\n",
       "        vertical-align: middle;\n",
       "    }\n",
       "\n",
       "    .dataframe tbody tr th {\n",
       "        vertical-align: top;\n",
       "    }\n",
       "\n",
       "    .dataframe thead th {\n",
       "        text-align: right;\n",
       "    }\n",
       "</style>\n",
       "<table border=\"1\" class=\"dataframe\">\n",
       "  <thead>\n",
       "    <tr style=\"text-align: right;\">\n",
       "      <th></th>\n",
       "      <th>date</th>\n",
       "      <th>open</th>\n",
       "      <th>high</th>\n",
       "      <th>low</th>\n",
       "      <th>close</th>\n",
       "      <th>volume</th>\n",
       "      <th>write_timestamp</th>\n",
       "    </tr>\n",
       "  </thead>\n",
       "  <tbody>\n",
       "    <tr>\n",
       "      <th>6702</th>\n",
       "      <td>2024-12-23</td>\n",
       "      <td>157.129</td>\n",
       "      <td>157.394</td>\n",
       "      <td>156.890</td>\n",
       "      <td>157.210</td>\n",
       "      <td>131604</td>\n",
       "      <td>2025-07-05 23:29:46.536036+00:00</td>\n",
       "    </tr>\n",
       "    <tr>\n",
       "      <th>6703</th>\n",
       "      <td>2024-12-25</td>\n",
       "      <td>157.257</td>\n",
       "      <td>158.087</td>\n",
       "      <td>157.077</td>\n",
       "      <td>158.023</td>\n",
       "      <td>141678</td>\n",
       "      <td>2025-07-05 23:29:46.536036+00:00</td>\n",
       "    </tr>\n",
       "    <tr>\n",
       "      <th>6704</th>\n",
       "      <td>2024-12-26</td>\n",
       "      <td>157.910</td>\n",
       "      <td>157.953</td>\n",
       "      <td>157.352</td>\n",
       "      <td>157.843</td>\n",
       "      <td>182121</td>\n",
       "      <td>2025-07-05 23:29:46.536036+00:00</td>\n",
       "    </tr>\n",
       "    <tr>\n",
       "      <th>6705</th>\n",
       "      <td>2024-12-29</td>\n",
       "      <td>157.747</td>\n",
       "      <td>158.074</td>\n",
       "      <td>156.668</td>\n",
       "      <td>156.860</td>\n",
       "      <td>204705</td>\n",
       "      <td>2025-07-05 23:29:46.536036+00:00</td>\n",
       "    </tr>\n",
       "    <tr>\n",
       "      <th>6706</th>\n",
       "      <td>2024-12-30</td>\n",
       "      <td>156.887</td>\n",
       "      <td>157.550</td>\n",
       "      <td>156.020</td>\n",
       "      <td>157.203</td>\n",
       "      <td>228120</td>\n",
       "      <td>2025-07-05 23:29:46.536036+00:00</td>\n",
       "    </tr>\n",
       "  </tbody>\n",
       "</table>\n",
       "</div>"
      ],
      "text/plain": [
       "            date     open     high      low    close  volume                  write_timestamp\n",
       "6702  2024-12-23  157.129  157.394  156.890  157.210  131604 2025-07-05 23:29:46.536036+00:00\n",
       "6703  2024-12-25  157.257  158.087  157.077  158.023  141678 2025-07-05 23:29:46.536036+00:00\n",
       "6704  2024-12-26  157.910  157.953  157.352  157.843  182121 2025-07-05 23:29:46.536036+00:00\n",
       "6705  2024-12-29  157.747  158.074  156.668  156.860  204705 2025-07-05 23:29:46.536036+00:00\n",
       "6706  2024-12-30  156.887  157.550  156.020  157.203  228120 2025-07-05 23:29:46.536036+00:00"
      ]
     },
     "execution_count": 65,
     "metadata": {},
     "output_type": "execute_result"
    }
   ],
   "source": [
    "df.tail()"
   ]
  },
  {
   "cell_type": "markdown",
   "id": "0fc60399-8105-4dfb-a49a-5c1b07f0c3b2",
   "metadata": {},
   "source": [
    "# Upload a candle to BigQuery"
   ]
  },
  {
   "cell_type": "code",
   "execution_count": 79,
   "id": "84a8bc01-b27c-49aa-80f2-2eaad9732e30",
   "metadata": {},
   "outputs": [
    {
     "name": "stdout",
     "output_type": "stream",
     "text": [
      "from: 2025-07-04, to: 2025-07-05\n",
      "Date doesn't match, so don't upload\n"
     ]
    },
    {
     "data": {
      "text/html": [
       "<div>\n",
       "<style scoped>\n",
       "    .dataframe tbody tr th:only-of-type {\n",
       "        vertical-align: middle;\n",
       "    }\n",
       "\n",
       "    .dataframe tbody tr th {\n",
       "        vertical-align: top;\n",
       "    }\n",
       "\n",
       "    .dataframe thead th {\n",
       "        text-align: right;\n",
       "    }\n",
       "</style>\n",
       "<table border=\"1\" class=\"dataframe\">\n",
       "  <thead>\n",
       "    <tr style=\"text-align: right;\">\n",
       "      <th></th>\n",
       "      <th>date</th>\n",
       "      <th>open</th>\n",
       "      <th>high</th>\n",
       "      <th>low</th>\n",
       "      <th>close</th>\n",
       "      <th>volume</th>\n",
       "      <th>write_timestamp</th>\n",
       "    </tr>\n",
       "  </thead>\n",
       "  <tbody>\n",
       "    <tr>\n",
       "      <th>0</th>\n",
       "      <td>2025-07-03</td>\n",
       "      <td>144.928</td>\n",
       "      <td>144.974</td>\n",
       "      <td>144.183</td>\n",
       "      <td>144.491</td>\n",
       "      <td>202107</td>\n",
       "      <td>2025-07-06 00:14:34.164472+00:00</td>\n",
       "    </tr>\n",
       "  </tbody>\n",
       "</table>\n",
       "</div>"
      ],
      "text/plain": [
       "         date     open     high      low    close  volume                  write_timestamp\n",
       "0  2025-07-03  144.928  144.974  144.183  144.491  202107 2025-07-06 00:14:34.164472+00:00"
      ]
     },
     "execution_count": 79,
     "metadata": {},
     "output_type": "execute_result"
    }
   ],
   "source": [
    "# from_dt = datetime.now(timezone.utc) - timedelta(days=1)\n",
    "from_dt = datetime(2025, 7, 4)\n",
    "from_str = from_dt.strftime(\"%Y-%m-%d\")\n",
    "\n",
    "# to_dt = datetime.now(timezone.utc)\n",
    "to_dt = datetime(2025, 7, 5)\n",
    "to_str = to_dt.strftime(\"%Y-%m-%d\")\n",
    "\n",
    "print(f\"from: {from_str}, to: {to_str}\")\n",
    "\n",
    "res = get_candles(from_str=from_str, to_str=to_str)\n",
    "df = candles_to_df(res)\n",
    "\n",
    "if df.iloc[0][\"date\"] == from_str:\n",
    "    print(\"Uploading...\")\n",
    "    pandas_gbq.to_gbq(df, destination_table=TABLE, if_exists=\"append\")\n",
    "    print(\"Finished\")\n",
    "else:\n",
    "    print(\"Date doesn't match, so don't upload\")\n",
    "\n",
    "df"
   ]
  }
 ],
 "metadata": {
  "kernelspec": {
   "display_name": "Python 3 (ipykernel)",
   "language": "python",
   "name": "python3"
  },
  "language_info": {
   "codemirror_mode": {
    "name": "ipython",
    "version": 3
   },
   "file_extension": ".py",
   "mimetype": "text/x-python",
   "name": "python",
   "nbconvert_exporter": "python",
   "pygments_lexer": "ipython3",
   "version": "3.12.5"
  }
 },
 "nbformat": 4,
 "nbformat_minor": 5
}
